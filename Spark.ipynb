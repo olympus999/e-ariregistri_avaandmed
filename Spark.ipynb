{
  "cells": [
    {
      "cell_type": "markdown",
      "metadata": {
        "id": "view-in-github",
        "colab_type": "text"
      },
      "source": [
        "<a href=\"https://colab.research.google.com/github/olympus999/e-ariregistri_avaandmed/blob/main/Spark.ipynb\" target=\"_parent\"><img src=\"https://colab.research.google.com/assets/colab-badge.svg\" alt=\"Open In Colab\"/></a>"
      ]
    },
    {
      "cell_type": "markdown",
      "source": [
        "# Download, import and install libraries"
      ],
      "metadata": {
        "id": "vnpT1Bjl8b0Z"
      }
    },
    {
      "cell_type": "code",
      "execution_count": 42,
      "metadata": {
        "id": "jlo-OQZJziQz",
        "colab": {
          "base_uri": "https://localhost:8080/"
        },
        "outputId": "6395d0e5-1782-4fa0-9168-53a97d52c341"
      },
      "outputs": [
        {
          "output_type": "stream",
          "name": "stdout",
          "text": [
            "Requirement already satisfied: ijson in /usr/local/lib/python3.10/dist-packages (3.2.3)\n"
          ]
        }
      ],
      "source": [
        "!apt-get install openjdk-8-jdk-headless -qq > /dev/null\n",
        "!wget -q https://dlcdn.apache.org/spark/spark-3.5.0/spark-3.5.0-bin-hadoop3.tgz\n",
        "!tar xf spark-3.5.0-bin-hadoop3.tgz\n",
        "!pip install -q findspark\n",
        "!pip install ijson"
      ]
    },
    {
      "cell_type": "code",
      "execution_count": 43,
      "metadata": {
        "id": "2tspqUYq1RA-"
      },
      "outputs": [],
      "source": [
        "import os\n",
        "import urllib.request\n",
        "os.environ[\"JAVA_HOME\"] = \"/usr/lib/jvm/java-8-openjdk-amd64\"\n",
        "os.environ[\"SPARK_HOME\"] = \"/content/spark-3.5.0-bin-hadoop3\"\n",
        "import findspark\n",
        "findspark.init()\n",
        "import pyspark\n",
        "from pyspark.sql import SparkSession\n",
        "from pyspark import SparkContext\n",
        "from pyspark import SparkConf\n",
        "from pyspark.sql.types import *\n",
        "from pyspark.sql.functions import col, regexp_replace, lit\n",
        "from os.path import isfile\n",
        "import zipfile\n",
        "import json\n",
        "import ast\n",
        "import time\n",
        "import ijson\n",
        "import matplotlib.pyplot as plt\n",
        "import seaborn as sns\n",
        "import pandas as pd"
      ]
    },
    {
      "cell_type": "markdown",
      "source": [
        "# Setup Spark and define files"
      ],
      "metadata": {
        "id": "XoESJOwc8krP"
      }
    },
    {
      "cell_type": "code",
      "execution_count": 44,
      "metadata": {
        "id": "vVmqsSvMCNW3"
      },
      "outputs": [],
      "source": [
        "conf = SparkConf().set(\"spark.driver.memory\", \"10g\")\\\n",
        "                  .set(\"spark.executor.memory\", \"10g\")\n",
        "spark = SparkSession.builder\\\n",
        "          .config(conf=conf)\\\n",
        "          .master(\"local[*]\")\\\n",
        "          .appName('avaandmed_ariregister')\\\n",
        "          .getOrCreate()\n",
        "spark.conf.set(\"spark.sql.repl.eagerEval.enabled\", True) # Property used to format output tables better\n",
        "\n",
        "sc = SparkContext.getOrCreate(SparkConf().setMaster(\"local[*]\"))"
      ]
    },
    {
      "cell_type": "code",
      "execution_count": 45,
      "metadata": {
        "id": "dlqlpHlRKrzu"
      },
      "outputs": [],
      "source": [
        "# spark.sparkContext.getConf().getAll()"
      ]
    },
    {
      "cell_type": "code",
      "execution_count": 46,
      "metadata": {
        "id": "oD3ljdcHRUSo"
      },
      "outputs": [],
      "source": [
        "folder_data = 'data'\n",
        "folder_data_unpacked = os.path.join(folder_data, 'unpacked')\n",
        "folder_data_spark_json = os.path.join(folder_data_unpacked, 'spark_json')\n",
        "\n",
        "# Data is downloaded from here: https://avaandmed.ariregister.rik.ee/et/avaandmete-allalaadimine#ettepanekud-ja-tagasiside\n",
        "generic_data = {\n",
        "    'simple_data':            'https://avaandmed.ariregister.rik.ee/sites/default/files/avaandmed/ettevotja_rekvisiidid__lihtandmed.csv.zip',\n",
        "    'generic_data':           'https://avaandmed.ariregister.rik.ee/sites/default/files/avaandmed/ettevotja_rekvisiidid__yldandmed.json.zip', # Huge file\n",
        "    # 'registrikaardid':        'https://avaandmed.ariregister.rik.ee/sites/default/files/avaandmed/ettevotja_rekvisiidid__registrikaardid.json.zip',\n",
        "    # 'kaardile_kantud_isikud': 'https://avaandmed.ariregister.rik.ee/sites/default/files/avaandmed/ettevotja_rekvisiidid__kaardile_kantud_isikud.json.zip',\n",
        "    # 'kandevalised_isikud':    'https://avaandmed.ariregister.rik.ee/sites/default/files/avaandmed/ettevotja_rekvisiidid__kandevalised_isikud.json.zip',\n",
        "    # 'osanikud':               'https://avaandmed.ariregister.rik.ee/sites/default/files/avaandmed/ettevotja_rekvisiidid__osanikud.json.zip',\n",
        "    # 'kasusaajad':             'https://avaandmed.ariregister.rik.ee/sites/default/files/avaandmed/ettevotja_rekvisiidid__kasusaajad.json.zip',\n",
        "    # 'kommertspandiandmed':    'https://avaandmed.ariregister.rik.ee/sites/default/files/avaandmed/ettevotja_rekvisiidid__kommertspandid.json.zip',\n",
        "    # 'maarused':               'https://avaandmed.ariregister.rik.ee/sites/default/files/avaandmed/ettevotja_rekvisiidid__maarused.json.zip'\n",
        "}\n",
        "\n",
        "yearly_data = {\n",
        "    # 'aruannete_yldandmed':                  'https://avaandmed.ariregister.rik.ee/sites/default/files/1.aruannete_yldandmed_kuni_31102023.zip',\n",
        "    'emtak_sales_distribution':             'https://avaandmed.ariregister.rik.ee/sites/default/files/2.EMTAK_myygitulu_kuni_31102023.zip',\n",
        "    # 'myygitulu_geograafiline_jaotus':       'https://avaandmed.ariregister.rik.ee/sites/default/files/3.myygitulu_geograafiline_kuni_31102023.zip',\n",
        "    # 'pohinaitajad_2020_aasta_aruannetest':  'https://avaandmed.ariregister.rik.ee/sites/default/files/4.2020_aruannete_elemendid_kuni_31102023.zip',\n",
        "    # 'pohinaitajad_2021_aasta_aruannetest':  'https://avaandmed.ariregister.rik.ee/sites/default/files/4.2021_aruannete_elemendid_kuni_31102023.zip',\n",
        "    # 'pohinaitajad_2022_aasta_aruannetest':  'https://avaandmed.ariregister.rik.ee/sites/default/files/4.2022_aruannete_elemendid_kuni_31102023.zip',\n",
        "}\n",
        "\n",
        "# Data is downloaded to Google Drive as they only keep the last 3 years of data available on their site.\n",
        "# Data is downloaded from here: https://www.emta.ee/ariklient/amet-uudised-ja-kontakt/uudised-pressiinfo-statistika/statistika-ja-avaandmed#tasutud-maksud-failid\n",
        "\n",
        "paid_taxes = {\n",
        "    'paid_taxes_2020_i_quarter':    'https://drive.google.com/uc?id=1h1-hW7sTCMlOxxvz4258W403_HC5QTJV',\n",
        "    'paid_taxes_2020_ii_quarter':   'https://drive.google.com/uc?id=1qDBr9U8WtSsFucuyEkJy-Hmhx2222zpY',\n",
        "    'paid_taxes_2020_iii_quarter':  'https://drive.google.com/uc?id=1LFo2bueoIcedmDUdbN6YLZN0_53HWxFY',\n",
        "    'paid_taxes_2020_iv_quarter':   'https://drive.google.com/uc?id=1OIU9IlYQlRtzsccOSqB6uEHLBnq4Axst',\n",
        "    'paid_taxes_2021_i_quarter':    'https://drive.google.com/uc?id=15t26vju1g3wR1Bqw7QCe7VFSIUXpgAWu',\n",
        "    'paid_taxes_2021_ii_quarter':   'https://drive.google.com/uc?id=1Rz6KmBzw61T98noX4_aRWiZEiAjGUSa3',\n",
        "    'paid_taxes_2021_iii_quarter':  'https://drive.google.com/uc?id=1aOJ_-KQDCs-oIFZMLqJql4IkICo5P-lk',\n",
        "    'paid_taxes_2021_iv_quarter':   'https://drive.google.com/uc?id=10XyphD7LCub2B9EySdLG47KXhrJr9ipD',\n",
        "    'paid_taxes_2022_i_quarter':    'https://drive.google.com/uc?id=1sU5wguPYaY2odNMM8aQRwopwm-sjL1oa',\n",
        "    'paid_taxes_2022_ii_quarter':   'https://drive.google.com/uc?id=1diLKS7NhlLZg2e-c_wRYPLTTUAeTdJxP',\n",
        "    'paid_taxes_2022_iii_quarter':  'https://drive.google.com/uc?id=1j0aeqXmzG3gdmcJkAZOvC_T_TfXnjNhA',\n",
        "    'paid_taxes_2022_iv_quarter':   'https://drive.google.com/uc?id=1TGiL1zc_WPSTai8DrbxXSLaoVWXg11Qm',\n",
        "    'paid_taxes_2023_i_quarter':    'https://drive.google.com/uc?id=1gsCyYuKYjN-nP-NdYWCYuMQZXRU8hpV6',\n",
        "    'paid_taxes_2023_ii_quarter':   'https://drive.google.com/uc?id=1sskcbN0cAIaD8H4_34AyRxv2AwJliF1Q',\n",
        "    'paid_taxes_2023_iii_quarter':  'https://drive.google.com/uc?id=1DPVmFwe6BkjD_j_VegXMJaLoyR7z9pcu',\n",
        "}\n",
        "\n",
        "all_data = {**generic_data, **yearly_data, **paid_taxes}"
      ]
    },
    {
      "cell_type": "code",
      "source": [
        "# Schemas for files\n",
        "\n",
        "key_taxes = 'paid_taxes'\n",
        "\n",
        "csv_kwargs = {\n",
        "  'encoding':     'iso8859-1',\n",
        "  'header':       True,\n",
        "  'inferSchema':  True,\n",
        "  'sep':          ';'\n",
        "}\n",
        "\n",
        "reg_code                        = \"Reg. Code\"\n",
        "company_name                    = \"Company Name\"\n",
        "company_type                    = \"Company Type\"\n",
        "registered_in_the_vat_register  = \"Registered in the VAT register\"\n",
        "emtak_name                      = \"EMTAK Name\"\n",
        "county                          = \"County\"\n",
        "national_taxes                  = \"National Taxes\"\n",
        "labor_taxes_and_payments        = \"Labor Taxes And Payments\"\n",
        "turnover                        = \"Turnover\"\n",
        "employees                       = \"Employees\"\n",
        "period                          = \"Period\"\n",
        "\n",
        "schemas = {\n",
        "  key_taxes :\n",
        "    StructType([\n",
        "      StructField(reg_code,                       StringType(), nullable=True),\n",
        "      StructField(company_name,                   StringType(), nullable=True),\n",
        "      StructField(company_type,                   StringType(), nullable=True),\n",
        "      StructField(registered_in_the_vat_register, StringType(), nullable=True),\n",
        "      StructField(emtak_name,                     StringType(), nullable=True),\n",
        "      StructField(county,                         StringType(), nullable=True),\n",
        "      StructField(national_taxes,                 StringType(), nullable=True), # StringType -> ´float´ is changed later, after numbers are fixed\n",
        "      StructField(labor_taxes_and_payments,       StringType(), nullable=True), # StringType -> ´float´ is changed later, after numbers are fixed\n",
        "      StructField(turnover,                       StringType(), nullable=True), # StringType -> ´float´ is changed later, after numbers are fixed\n",
        "      StructField(employees,                      IntegerType(), nullable=True),\n",
        "      StructField(period,                         StringType(), nullable=True),\n",
        "    ])\n",
        "}"
      ],
      "metadata": {
        "id": "Ga3bJCwTViVx"
      },
      "execution_count": 47,
      "outputs": []
    },
    {
      "cell_type": "markdown",
      "source": [
        "# Functions"
      ],
      "metadata": {
        "id": "EgUI7Jt387vP"
      }
    },
    {
      "cell_type": "code",
      "execution_count": 48,
      "metadata": {
        "id": "bumlg17oX590"
      },
      "outputs": [],
      "source": [
        "def mkdir(p):\n",
        "  if not os.path.isdir(p):\n",
        "    os.makedirs(p)\n",
        "\n",
        "def get_filename(url: str, key: str = None) -> str:\n",
        "  if key is not None and is_key_taxes(key):\n",
        "    return key + '.csv'\n",
        "  return url.split('/')[-1]\n",
        "\n",
        "def save_avaandmed(key: str, url: str, overwrite=False) -> str:\n",
        "  \"\"\"CSV files will be saved to folder ´unpacked´\"\"\"\n",
        "  file_name = get_filename(url, key)\n",
        "  if file_name.endswith('.csv'):\n",
        "    file_path_name = f\"{folder_data_unpacked}/{file_name}\"\n",
        "  else:\n",
        "    file_path_name = f\"{folder_data}/{file_name}\"\n",
        "  if overwrite or not os.path.isfile(file_path_name):\n",
        "    urllib.request.urlretrieve(url, file_path_name)\n",
        "\n",
        "  return file_path_name\n",
        "\n",
        "def file_path_unpacked(key: str) -> str:\n",
        "  url = all_data[key]\n",
        "  file_name = get_filename(url, key)\n",
        "  head, _sep, tail = file_name.rpartition('.zip')\n",
        "  path = os.path.join(folder_data_unpacked, (head + tail))\n",
        "\n",
        "  if not is_json_or_csv(path):\n",
        "    path = path + '.csv' # ´.csv´ is missing in some cases\n",
        "\n",
        "  return path\n",
        "\n",
        "def file_path_spark_json(key: str) -> str:\n",
        "  url = all_data[key]\n",
        "  file_name = get_filename(url)\n",
        "  head, _sep, tail = file_name.rpartition('.zip')\n",
        "\n",
        "  return os.path.join(folder_data_spark_json, (head + tail))\n",
        "\n",
        "def create_dirs():\n",
        "  mkdir(folder_data)\n",
        "  mkdir(folder_data_unpacked)\n",
        "  mkdir(folder_data_spark_json)\n",
        "\n",
        "def download_files():\n",
        "  for key, value in all_data.items():\n",
        "    print('downloaded', key, '-', save_avaandmed(key, value))\n",
        "\n",
        "def unpack_files():\n",
        "  for f in os.listdir(folder_data):\n",
        "    p = os.path.join(folder_data, f)\n",
        "    if not os.path.isdir(p):\n",
        "      with zipfile.ZipFile(p, \"r\") as zip_ref:\n",
        "        zip_ref.extractall(folder_data_unpacked)\n",
        "        print('unpacked', '-', p, 'to', folder_data_unpacked)\n",
        "\n",
        "def fix_tax_numbers(df):\n",
        "  def re_space(column_name: str):\n",
        "    return regexp_replace(col(column_name), ' ', '')\n",
        "\n",
        "  def re_comma(column_name: str):\n",
        "    return regexp_replace(col(column_name), ',', '.')\n",
        "\n",
        "  df = df.withColumn(national_taxes, re_space(national_taxes))\\\n",
        "          .withColumn(national_taxes, re_comma(national_taxes))\\\n",
        "          .withColumn(national_taxes, col(national_taxes).cast('float'))\\\n",
        "          .withColumn(labor_taxes_and_payments, re_space(labor_taxes_and_payments))\\\n",
        "          .withColumn(labor_taxes_and_payments, re_comma(labor_taxes_and_payments))\\\n",
        "          .withColumn(labor_taxes_and_payments, col(labor_taxes_and_payments).cast('float'))\\\n",
        "          .withColumn(turnover, re_space(turnover))\\\n",
        "          .withColumn(turnover, re_comma(turnover))\\\n",
        "          .withColumn(turnover, col(turnover).cast('float'))\n",
        "\n",
        "  return df\n",
        "\n",
        "def json_to_table(path: str, key: str):\n",
        "  df = spark.read.json(path)\n",
        "  create_table(df, key)\n",
        "\n",
        "def csv_to_table(path: str=None, key: str=None, df: pyspark.sql.dataframe.DataFrame=None):\n",
        "  assert (path is not None and key is not None) or (df is not None and key is not None), \\\n",
        "    \"Either ´path´ and ´key´ are not ´None´ OR ´df´ and ´key´ are not ´None´\"\n",
        "\n",
        "  if df is None:\n",
        "    csv_kwargs['path'] = path\n",
        "    df = spark.read.csv(**csv_kwargs)\n",
        "\n",
        "  create_table(df, key)\n",
        "\n",
        "def create_table(df, key):\n",
        "  print(f'Trying to create table ´{key}´ - ', end=\"\")\n",
        "  df.createOrReplaceTempView(key)\n",
        "  print(f'Done!')\n",
        "\n",
        "def is_json(path: str) -> bool:\n",
        "  return path.endswith('.json')\n",
        "\n",
        "def is_csv(path: str) -> bool:\n",
        "  return path.endswith('.csv')\n",
        "\n",
        "def is_json_or_csv(path: str) -> bool:\n",
        "  return is_json(path) or is_csv(path)\n",
        "\n",
        "\n",
        "def is_key_taxes(key: str) -> bool:\n",
        "  return key.startswith(key_taxes)\n",
        "\n",
        "def modify_json_for_spark(path: str, path_spark: str):\n",
        "  # Spark expectes certain JSON format.\n",
        "  # The function changes the following:\n",
        "  ## [\n",
        "  ##   { [record] },\n",
        "  ##   { [record] }\n",
        "  ## ]\n",
        "  # to\n",
        "  ## { [record] }\n",
        "  ## { [record] }\n",
        "\n",
        "  if is_json(path):\n",
        "    print('Starting to modify JSON ', path, end=\"\")\n",
        "    start_time = time.time()\n",
        "    temp_path = 'temp.json'\n",
        "\n",
        "    # Parsing with ijson because some files are quite big in size.\n",
        "    with open(path, 'r') as f:\n",
        "      with open(path_spark, 'w') as json_objects:\n",
        "        for n in ijson.items(f, 'item', use_float=True):\n",
        "          json_objects.write(json.dumps(n) + '\\n')\n",
        "\n",
        "    time_it_took = time.time() - start_time\n",
        "    print(' - done! - Time:', round(time_it_took, 1), 'seconds')\n",
        "  else:\n",
        "    print('NOT JSON path:', path)\n",
        "\n",
        "def modify_downloaded_jsons():\n",
        "  for key in all_data.keys():\n",
        "    path = file_path_unpacked(key)\n",
        "    path_spark = file_path_spark_json(key)\n",
        "    modify_json_for_spark(path, path_spark)\n",
        "\n",
        "def create_temp_tables():\n",
        "  # Separate tax files and other files\n",
        "  d = all_data.copy()\n",
        "  tax_files = {key: d[key] for key in d.keys() if is_key_taxes(key)}\n",
        "  other_files = {key: d[key] for key in d.keys() if key not in tax_files.keys()}\n",
        "\n",
        "  # Other files into tables\n",
        "  for key in other_files.keys():\n",
        "    path = file_path_unpacked(key)\n",
        "    if path.endswith('.json'):\n",
        "      path = file_path_spark_json(key)\n",
        "      json_to_table(path, key)\n",
        "    elif path.endswith('.csv'):\n",
        "      csv_to_table(path, key)\n",
        "\n",
        "  # Tax data we want in one table\n",
        "  df = read_tax_files(tax_files)\n",
        "  csv_to_table(key=key_taxes, df=df)\n",
        "\n",
        "def read_tax_files(tax_files):\n",
        "  df = spark.createDataFrame([], schemas[key_taxes])\n",
        "  schema_csv_kwargs = csv_kwargs.copy()\n",
        "  schema_csv_kwargs['schema'] = schemas[key_taxes]\n",
        "\n",
        "  for key in tax_files.keys():\n",
        "    schema_csv_kwargs['path'] = file_path_unpacked(key)\n",
        "    period_value = key.split('_', maxsplit=2)[-1]\n",
        "    t1 = spark.read.csv(**schema_csv_kwargs)\\\n",
        "          .withColumn(period, lit(period_value))\n",
        "    df = df.union(t1)\n",
        "\n",
        "  df = fix_tax_numbers(df)\n",
        "\n",
        "  return df"
      ]
    },
    {
      "cell_type": "code",
      "execution_count": 49,
      "metadata": {
        "colab": {
          "base_uri": "https://localhost:8080/"
        },
        "id": "L8EAKa8gDSjc",
        "outputId": "64ec0db4-bde8-4c98-8944-553943499ae2"
      },
      "outputs": [
        {
          "output_type": "stream",
          "name": "stdout",
          "text": [
            "downloaded simple_data - data/ettevotja_rekvisiidid__lihtandmed.csv.zip\n",
            "downloaded generic_data - data/ettevotja_rekvisiidid__yldandmed.json.zip\n",
            "downloaded emtak_sales_distribution - data/2.EMTAK_myygitulu_kuni_31102023.zip\n",
            "downloaded paid_taxes_2020_i_quarter - data/unpacked/paid_taxes_2020_i_quarter.csv\n",
            "downloaded paid_taxes_2020_ii_quarter - data/unpacked/paid_taxes_2020_ii_quarter.csv\n",
            "downloaded paid_taxes_2020_iii_quarter - data/unpacked/paid_taxes_2020_iii_quarter.csv\n",
            "downloaded paid_taxes_2020_iv_quarter - data/unpacked/paid_taxes_2020_iv_quarter.csv\n",
            "downloaded paid_taxes_2021_i_quarter - data/unpacked/paid_taxes_2021_i_quarter.csv\n",
            "downloaded paid_taxes_2021_ii_quarter - data/unpacked/paid_taxes_2021_ii_quarter.csv\n",
            "downloaded paid_taxes_2021_iii_quarter - data/unpacked/paid_taxes_2021_iii_quarter.csv\n",
            "downloaded paid_taxes_2021_iv_quarter - data/unpacked/paid_taxes_2021_iv_quarter.csv\n",
            "downloaded paid_taxes_2022_i_quarter - data/unpacked/paid_taxes_2022_i_quarter.csv\n",
            "downloaded paid_taxes_2022_ii_quarter - data/unpacked/paid_taxes_2022_ii_quarter.csv\n",
            "downloaded paid_taxes_2022_iii_quarter - data/unpacked/paid_taxes_2022_iii_quarter.csv\n",
            "downloaded paid_taxes_2022_iv_quarter - data/unpacked/paid_taxes_2022_iv_quarter.csv\n",
            "downloaded paid_taxes_2023_i_quarter - data/unpacked/paid_taxes_2023_i_quarter.csv\n",
            "downloaded paid_taxes_2023_ii_quarter - data/unpacked/paid_taxes_2023_ii_quarter.csv\n",
            "downloaded paid_taxes_2023_iii_quarter - data/unpacked/paid_taxes_2023_iii_quarter.csv\n",
            "unpacked - data/2.EMTAK_myygitulu_kuni_31102023.zip to data/unpacked\n",
            "unpacked - data/ettevotja_rekvisiidid__lihtandmed.csv.zip to data/unpacked\n",
            "unpacked - data/ettevotja_rekvisiidid__yldandmed.json.zip to data/unpacked\n",
            "NOT JSON path: data/unpacked/ettevotja_rekvisiidid__lihtandmed.csv\n",
            "Starting to modify JSON  data/unpacked/ettevotja_rekvisiidid__yldandmed.json - done! - Time: 127.4 seconds\n",
            "NOT JSON path: data/unpacked/2.EMTAK_myygitulu_kuni_31102023.csv\n",
            "NOT JSON path: data/unpacked/paid_taxes_2020_i_quarter.csv\n",
            "NOT JSON path: data/unpacked/paid_taxes_2020_ii_quarter.csv\n",
            "NOT JSON path: data/unpacked/paid_taxes_2020_iii_quarter.csv\n",
            "NOT JSON path: data/unpacked/paid_taxes_2020_iv_quarter.csv\n",
            "NOT JSON path: data/unpacked/paid_taxes_2021_i_quarter.csv\n",
            "NOT JSON path: data/unpacked/paid_taxes_2021_ii_quarter.csv\n",
            "NOT JSON path: data/unpacked/paid_taxes_2021_iii_quarter.csv\n",
            "NOT JSON path: data/unpacked/paid_taxes_2021_iv_quarter.csv\n",
            "NOT JSON path: data/unpacked/paid_taxes_2022_i_quarter.csv\n",
            "NOT JSON path: data/unpacked/paid_taxes_2022_ii_quarter.csv\n",
            "NOT JSON path: data/unpacked/paid_taxes_2022_iii_quarter.csv\n",
            "NOT JSON path: data/unpacked/paid_taxes_2022_iv_quarter.csv\n",
            "NOT JSON path: data/unpacked/paid_taxes_2023_i_quarter.csv\n",
            "NOT JSON path: data/unpacked/paid_taxes_2023_ii_quarter.csv\n",
            "NOT JSON path: data/unpacked/paid_taxes_2023_iii_quarter.csv\n",
            "Trying to create table ´simple_data´ - Done!\n",
            "Trying to create table ´generic_data´ - Done!\n",
            "Trying to create table ´emtak_sales_distribution´ - Done!\n",
            "Trying to create table ´paid_taxes´ - Done!\n"
          ]
        }
      ],
      "source": [
        "create_dirs()\n",
        "\n",
        "download_files()\n",
        "\n",
        "unpack_files()\n",
        "\n",
        "modify_downloaded_jsons()\n",
        "\n",
        "create_temp_tables()"
      ]
    },
    {
      "cell_type": "markdown",
      "source": [
        "### EMTAK codes\n",
        "\n",
        "Get different EMTAK codes with labels, sorted by most common codes.\n",
        "EMTA Code shows the field of business the company is in, one company can have multiple EMTAK Codes"
      ],
      "metadata": {
        "id": "VIMyMm3iEylG"
      }
    },
    {
      "cell_type": "code",
      "source": [
        "q = \\\n",
        "\"\"\"\n",
        "  WITH emtak_codes_only AS (\n",
        "    SELECT\n",
        "      ariregistri_kood,\n",
        "      explode(yldandmed.teatatud_tegevusalad.emtak_kood) AS emtak_kood\n",
        "    FROM generic_data\n",
        "  ),\n",
        "  faulty_emtaks AS (\n",
        "    SELECT ariregistri_kood\n",
        "    FROM emtak_codes_only\n",
        "    GROUP BY ariregistri_kood, emtak_kood\n",
        "    HAVING COUNT(emtak_kood) > 1\n",
        "  ),\n",
        "  extracted_emtak AS (\n",
        "    SELECT\n",
        "      explode(\n",
        "        map_from_arrays(\n",
        "          yldandmed.teatatud_tegevusalad.emtak_kood,\n",
        "          yldandmed.teatatud_tegevusalad.emtak_tekstina))\n",
        "      AS (emtak_kood, emtak_tekstina)\n",
        "    FROM generic_data\n",
        "    WHERE ariregistri_kood not in (SELECT ariregistri_kood FROM faulty_emtaks)\n",
        "  ),\n",
        "  unique_emtak AS (\n",
        "    SELECT DISTINCT emtak_kood, emtak_tekstina, count(*) as count\n",
        "    FROM extracted_emtak\n",
        "    GROUP BY emtak_kood, emtak_tekstina)\n",
        "  SELECT * FROM unique_emtak ORDER BY count DESC\n",
        "\"\"\"\n",
        "emtak_codes = spark.sql(q).cache()\n",
        "emtak_codes.show(20, truncate=False)"
      ],
      "metadata": {
        "colab": {
          "base_uri": "https://localhost:8080/"
        },
        "id": "LG1JV3KqSmx-",
        "outputId": "7b9208a8-e602-4f07-b339-31b2e3b823d9"
      },
      "execution_count": 57,
      "outputs": [
        {
          "output_type": "stream",
          "name": "stdout",
          "text": [
            "+----------+-----------------------------------------------------------------------------+-----+\n",
            "|emtak_kood|emtak_tekstina                                                               |count|\n",
            "+----------+-----------------------------------------------------------------------------+-----+\n",
            "|68201     |Enda või renditud kinnisvara üürileandmine ja käitus                         |19443|\n",
            "|70221     |Ärinõustamine jm juhtimisalane nõustamine                                    |14828|\n",
            "|68321     |Hoonete ja üürimajade haldus (korteriühistud, elamuühistud, hooneühistud jms)|12623|\n",
            "|41201     |Elamute ja mitteeluhoonete ehitus                                            |11637|\n",
            "|62011     |Programmeerimine                                                             |10583|\n",
            "|96021     |Juuksuri- ja muu iluteenindus                                                |9208 |\n",
            "|69202     |Raamatupidamine, maksualane nõustamine                                       |8748 |\n",
            "|47911     |Jaemüük posti või Interneti teel                                             |7583 |\n",
            "|82991     |Muud mujal liigitamata äritegevust abistavad tegevused                       |6448 |\n",
            "|49411     |Kaubavedu maanteel                                                           |6329 |\n",
            "|46901     |Spetsialiseerimata hulgikaubandus                                            |4850 |\n",
            "|62021     |Arvutialased konsultatsioonid                                                |4617 |\n",
            "|62091     |Muud infotehnoloogia- ja arvutialased tegevused                              |4590 |\n",
            "|74901     |Muu mujal liigitamata kutse-, teadus- ja tehnikaalane tegevus                |4537 |\n",
            "|90031     |Kunstialane loometegevus                                                     |4242 |\n",
            "|56101     |Restoranid jm toitlustuskohad                                                |4182 |\n",
            "|96099     |Muu  teenindus                                                               |4043 |\n",
            "|85599     |Muu mujal liigitamata koolitus                                               |4040 |\n",
            "|49321     |Taksovedu                                                                    |3951 |\n",
            "|45201     |Mootorsõidukite hooldus ja remont                                            |3929 |\n",
            "+----------+-----------------------------------------------------------------------------+-----+\n",
            "only showing top 20 rows\n",
            "\n"
          ]
        }
      ]
    },
    {
      "cell_type": "markdown",
      "source": [
        "### Filter companies and get details\n",
        "\n",
        "Filter companies by EMTAK code and extract contact details."
      ],
      "metadata": {
        "id": "N7KftNwnE7Cs"
      }
    },
    {
      "cell_type": "code",
      "source": [
        "q = \"\"\"\n",
        "  WITH selected_companies AS (\n",
        "    SELECT\n",
        "      ariregistri_kood as ariregistri_kood,\n",
        "      yldandmed.teatatud_tegevusalad.emtak_kood as emtak_kood,\n",
        "      yldandmed.teatatud_tegevusalad.emtak_tekstina as emtak_tekstina,\n",
        "      yldandmed.aadressid[0].ehak_nimetus as ehak_nimetus, -- As of currently ´yldandmed.aadressid´ always contains 1 address\n",
        "      yldandmed.aadressid[0].riik as riik,\n",
        "      yldandmed.aadressid[0].riik_tekstina as riik_tekstina,\n",
        "      array_compact(\n",
        "        TRANSFORM(yldandmed.sidevahendid, elem ->\n",
        "          CASE\n",
        "            WHEN elem.liik_tekstina = 'Mobiiltelefon' THEN elem.sisu\n",
        "            ELSE NULL\n",
        "          END\n",
        "      )) AS mobiiltelefon, -- In some cases there are multiple contact numbers for example.\n",
        "      array_compact(\n",
        "        TRANSFORM(yldandmed.sidevahendid, elem ->\n",
        "          CASE\n",
        "            WHEN elem.liik_tekstina = 'Elektronposti aadress' THEN elem.sisu\n",
        "            ELSE NULL\n",
        "          END\n",
        "      )) AS email\n",
        "    FROM generic_data\n",
        "    WHERE array_contains(yldandmed.teatatud_tegevusalad.emtak_kood, '68201')\n",
        "  )\n",
        "  SELECT COUNT(*) FROM selected_companies\n",
        "\"\"\"\n",
        "\n",
        "filtered_companies = spark.sql(q).cache()\n",
        "filtered_companies.show(20, truncate=False)"
      ],
      "metadata": {
        "id": "h9sbL6Z1HBWm",
        "colab": {
          "base_uri": "https://localhost:8080/"
        },
        "outputId": "07a98f9e-df7f-47fd-bea1-d8620f857e3e"
      },
      "execution_count": 60,
      "outputs": [
        {
          "output_type": "stream",
          "name": "stdout",
          "text": [
            "+--------+\n",
            "|count(1)|\n",
            "+--------+\n",
            "|19443   |\n",
            "+--------+\n",
            "\n"
          ]
        }
      ]
    },
    {
      "cell_type": "markdown",
      "source": [
        "### paid taxes"
      ],
      "metadata": {
        "id": "S13y_vGRKXRH"
      }
    },
    {
      "cell_type": "code",
      "source": [
        "sum_national_taxes = \"National Taxes (in Billions €)\"\n",
        "sum_labor_taxes_and_payments = \"Labor Taxes and Payments (in Billions €)\"\n",
        "sum_turnover = \"Turnover (in Billions €)\"\n",
        "sum_employees = \"Employees (in Thousands)\"\n",
        "\n",
        "q = \"\"\"\n",
        "  SELECT\n",
        "    period,\n",
        "    ROUND(SUM(`{national_taxes}`) / 1000000000, 2) AS `{sum_national_taxes}`,\n",
        "    ROUND(SUM(`{labor_taxes_and_payments}`) / 1000000000, 2) AS `{sum_labor_taxes_and_payments}`,\n",
        "    ROUND(SUM(`{turnover}`) / 1000000000, 2) AS `{sum_turnover}`,\n",
        "    ROUND(SUM(`{employees}`) / 1000, 2) AS `{sum_employees}`\n",
        "  FROM paid_taxes\n",
        "  GROUP BY period\n",
        "  SORT BY period\n",
        "\"\"\".format(\n",
        "      national_taxes=national_taxes,\n",
        "      sum_national_taxes=sum_national_taxes,\n",
        "\n",
        "      labor_taxes_and_payments=labor_taxes_and_payments,\n",
        "      sum_labor_taxes_and_payments=sum_labor_taxes_and_payments,\n",
        "\n",
        "      turnover=turnover,\n",
        "      sum_turnover=sum_turnover,\n",
        "\n",
        "      employees=employees,\n",
        "      sum_employees=sum_employees\n",
        "    )\n",
        "res = spark.sql(q).cache()\n",
        "res.show(50, truncate=False)\n",
        "\n",
        "df_res = res.toPandas()\n",
        "df_res = df_res.set_index('period')"
      ],
      "metadata": {
        "colab": {
          "base_uri": "https://localhost:8080/"
        },
        "id": "z0_ALUgfqcDE",
        "outputId": "c271c5d9-0503-43b5-b6a2-cd43a3afee48"
      },
      "execution_count": 18,
      "outputs": [
        {
          "output_type": "stream",
          "name": "stdout",
          "text": [
            "+----------------+------------------------------+----------------------------------------+------------------------+------------------------+\n",
            "|period          |National Taxes (in Billions €)|Labor Taxes and Payments (in Billions €)|Turnover (in Billions €)|Employees (in Thousands)|\n",
            "+----------------+------------------------------+----------------------------------------+------------------------+------------------------+\n",
            "|2020_i_quarter  |2.59                          |1.41                                    |19.56                   |693.31                  |\n",
            "|2020_ii_quarter |2.38                          |1.33                                    |18.03                   |682.14                  |\n",
            "|2020_iii_quarter|2.66                          |1.41                                    |19.38                   |628.01                  |\n",
            "|2020_iv_quarter |2.64                          |1.4                                     |21.52                   |617.62                  |\n",
            "|2021_i_quarter  |2.68                          |1.47                                    |21.26                   |615.0                   |\n",
            "|2021_ii_quarter |2.78                          |1.49                                    |23.42                   |664.29                  |\n",
            "|2021_iii_quarter|2.96                          |1.56                                    |24.38                   |668.07                  |\n",
            "|2021_iv_quarter |3.29                          |1.82                                    |29.42                   |669.05                  |\n",
            "|2022_i_quarter  |3.12                          |1.66                                    |25.93                   |675.22                  |\n",
            "|2022_ii_quarter |3.32                          |1.72                                    |29.88                   |688.94                  |\n",
            "|2022_iii_quarter|3.39                          |1.74                                    |30.4                    |684.82                  |\n",
            "|2023_i_quarter  |3.42                          |1.84                                    |28.72                   |676.07                  |\n",
            "|2023_ii_quarter |3.5                           |1.86                                    |29.14                   |679.4                   |\n",
            "|2023_iii_quarter|3.53                          |1.9                                     |28.09                   |669.6                   |\n",
            "+----------------+------------------------------+----------------------------------------+------------------------+------------------------+\n",
            "\n"
          ]
        }
      ]
    },
    {
      "cell_type": "code",
      "source": [
        "kwargs = {'rot': 90}\n",
        "\n",
        "# Employees\n",
        "color = 'blue'\n",
        "alpha = 0.3\n",
        "ax = df_res[sum_employees].plot(kind='bar', color=color, alpha=alpha, **kwargs)\n",
        "ax.set_ylabel(sum_employees, color=color, alpha=alpha)\n",
        "ax.set_ylim([df_res[sum_employees].min() * 0.8, df_res[sum_employees].max()*1.2])\n",
        "\n",
        "# Turnover\n",
        "color = 'green'\n",
        "ax2 = ax.twinx()\n",
        "ax2.spines['right'].set_position(('axes', 1))\n",
        "df_res[sum_turnover].plot(style='--', color=color, ax=ax2, **kwargs)\n",
        "ax2.set_ylabel(sum_turnover, color=color)\n",
        "\n",
        "# National tax\n",
        "color = 'royalblue'\n",
        "ax2 = ax.twinx()\n",
        "ax2.spines['right'].set_position(('axes', 1.11))\n",
        "df_res[sum_national_taxes].plot(style='--', color=color, ax=ax2, **kwargs)\n",
        "ax2.set_ylabel(sum_national_taxes, color=color)\n",
        "\n",
        "# Labor taxes\n",
        "color = 'olive'\n",
        "ax2 = ax.twinx()\n",
        "ax2.spines['right'].set_position(('axes', 1.23))\n",
        "df_res[sum_labor_taxes_and_payments].plot(style='-.', color=color, ax=ax2, **kwargs)\n",
        "ax2.set_ylabel(sum_labor_taxes_and_payments, color=color)\n",
        "\n",
        "ax.set_facecolor((0.9, 0.9, 0.9))\n",
        "\n",
        "plt.axvline(x=8, color='red', label='Ukraine-Russia War', linestyle='-', linewidth=1, alpha=1)\n",
        "\n",
        "ax.figure.legend(loc=2, framealpha=0.4, fontsize=9)"
      ],
      "metadata": {
        "colab": {
          "base_uri": "https://localhost:8080/",
          "height": 529
        },
        "id": "uI6nvhyq2YgY",
        "outputId": "d2de918f-6c76-4ced-930e-8f750b99bbb1"
      },
      "execution_count": 20,
      "outputs": [
        {
          "output_type": "execute_result",
          "data": {
            "text/plain": [
              "<matplotlib.legend.Legend at 0x7fd0247f0400>"
            ]
          },
          "metadata": {},
          "execution_count": 20
        },
        {
          "output_type": "display_data",
          "data": {
            "text/plain": [
              "<Figure size 640x480 with 4 Axes>"
            ],
            "image/png": "[encoded data removed]"
          },
          "metadata": {}
        }
      ]
    },
    {
      "cell_type": "markdown",
      "source": [
        "There are Few interesting points on the graph. First one is the Russian invasion of Ukraine which is shown by the vertical red line. After that it is clearly visible that Turnover is significantly higher than Nation Taxes or Labor Taxes, something that did not happen in the previous 2 years the data is available. A clear indicator of inflation, especially due to energy prices - all well known by everyone.\n",
        "\n",
        "Second interesting thing is that Labor Taxes and National Taxes are over the pre-war level peak, but Turnover has fallen below the pre-war peak and has been on a falling trend for the past few quarters. It is interesting that Turnover goes down while National Taxes go up. As previously they have been correlated and they should be correlated - probably there is a good reason. National Taxes also come from dividends - data that is not currently available for the year 2023, so that might also be the reason."
      ],
      "metadata": {
        "id": "DXxWtkGiL6hc"
      }
    },
    {
      "cell_type": "markdown",
      "source": [
        "# Development"
      ],
      "metadata": {
        "id": "o5ut-yu2WQ7h"
      }
    },
    {
      "cell_type": "markdown",
      "source": [
        "### EMTAK Revenue per code"
      ],
      "metadata": {
        "id": "osTNLuYjGTRK"
      }
    },
    {
      "cell_type": "code",
      "source": [
        "q = \\\n",
        "\"\"\"\n",
        "  SELECT\n",
        "    ariregistri_kood,\n",
        "    nimi,\n",
        "    yldandmed.teatatud_tegevusalad.emtak_kood AS emtak_kood,\n",
        "    yldandmed.teatatud_tegevusalad.emtak_tekstina AS emtak_tekstina\n",
        "  FROM generic_data\n",
        "  LIMIT 10\n",
        "\"\"\"\n",
        "res = spark.sql(q).cache()\n",
        "res.show(20, truncate=False)"
      ],
      "metadata": {
        "colab": {
          "base_uri": "https://localhost:8080/"
        },
        "id": "zBUBUPEkGSQm",
        "outputId": "5aed4d4f-5ebe-4c7f-d716-be062f9753bd"
      },
      "execution_count": 11,
      "outputs": [
        {
          "output_type": "stream",
          "name": "stdout",
          "text": [
            "+----------------+-----------------------+---------------------+----------------------------------------------------------------------------------------------------------------------------------------------------------------------------------------+\n",
            "|ariregistri_kood|nimi                   |emtak_kood           |emtak_tekstina                                                                                                                                                                          |\n",
            "+----------------+-----------------------+---------------------+----------------------------------------------------------------------------------------------------------------------------------------------------------------------------------------+\n",
            "|16372442        |000 Holdings OÜ        |[73111]              |[Reklaamiagentuurid]                                                                                                                                                                    |\n",
            "|12754230        |001 group OÜ           |[68311]              |[Kinnisvarabüroode tegevus]                                                                                                                                                             |\n",
            "|12652512        |001 Kinnisvara OÜ      |[53201]              |[Muu posti- ja kulleriteenistus]                                                                                                                                                        |\n",
            "|16752073        |007 Agent & Partners OÜ|[73111]              |[Reklaamiagentuurid]                                                                                                                                                                    |\n",
            "|11694365        |007 Autohaus osaühing  |[45111, 45321, 77111]|[Sõiduautode ja väikebusside (täismassiga alla 3,5 t) müük, Mootorsõidukite osade ja lisaseadmete jaemüük, Sõiduautode ja väikebusside (täismassiga alla 3,5t) rentimine ja kasutusrent]|\n",
            "|12937781        |013 investment OÜ      |[64301]              |[Usaldusfondide, investeerimisfondide ja sarnaste finantsüksuste investeerimine võlakirjadesse, väärtpaberitesse jms finantsvahenditesse]                                               |\n",
            "|14112620        |01Arvutiabi OÜ         |[81301]              |[Maastiku hooldus ja korrashoid]                                                                                                                                                        |\n",
            "|10818150        |01 Creations Osaühing  |[62091]              |[Muud infotehnoloogia- ja arvutialased tegevused]                                                                                                                                       |\n",
            "|16268360        |0207 Stuudio OÜ        |[74201]              |[Fotograafia]                                                                                                                                                                           |\n",
            "|16035029        |020 EHITUS OÜ          |[41201]              |[Elamute ja mitteeluhoonete ehitus]                                                                                                                                                     |\n",
            "+----------------+-----------------------+---------------------+----------------------------------------------------------------------------------------------------------------------------------------------------------------------------------------+\n",
            "\n"
          ]
        }
      ]
    },
    {
      "cell_type": "code",
      "source": [
        "q = \\\n",
        "\"\"\"\n",
        "  SELECT * FROM paid_taxes LIMIT 10\n",
        "\"\"\"\n",
        "res = spark.sql(q).cache()\n",
        "res.show(20, truncate=False)"
      ],
      "metadata": {
        "colab": {
          "base_uri": "https://localhost:8080/"
        },
        "id": "p2cwfpb1JbPo",
        "outputId": "9889692b-317a-447c-cb1c-36da61e475d1"
      },
      "execution_count": 9,
      "outputs": [
        {
          "output_type": "stream",
          "name": "stdout",
          "text": [
            "+---------+----------------------------+------------+------------------------------+---------------------------------------------------------------+--------------------------+--------------+------------------------+----------+---------+--------------+\n",
            "|Reg. Code|Company Name                |Company Type|Registered in the VAT register|EMTAK Name                                                     |County                    |National Taxes|Labor Taxes And Payments|Turnover  |Employees|Period        |\n",
            "+---------+----------------------------+------------+------------------------------+---------------------------------------------------------------+--------------------------+--------------+------------------------+----------+---------+--------------+\n",
            "|10000018 |AMSERV AUTO AS              |Äriühing    |jah                           |HULGI- JA JAEKAUBANDUS; MOOTORSÕIDUKITE JA MOOTORRATASTE REMONT|Harju ( Tallinn )         |635586.56     |669944.0                |NULL      |208      |2020_i_quarter|\n",
            "|10000024 |EESTI RAAMAT, OÜ            |Äriühing    |jah                           |INFO JA SIDE                                                   |Harju ( Tallinn )         |22847.67      |14375.33                |129993.24 |10       |2020_i_quarter|\n",
            "|10000062 |ALDO KOPPEL                 |FIE         |jah                           |PÕLLUMAJANDUS, METSAMAJANDUS JA KALAPÜÜK                       |Ida-Viru ( Lüganuse vald )|NULL          |NULL                    |185.0     |NULL     |2020_i_quarter|\n",
            "|10000127 |ARAVETE APTEEK, TÜ          |Äriühing    |jah                           |HULGI- JA JAEKAUBANDUS; MOOTORSÕIDUKITE JA MOOTORRATASTE REMONT|Järva ( Järva vald )      |8717.01       |4503.35                 |116415.2  |2        |2020_i_quarter|\n",
            "|10000165 |KIVIÕLI KAUBAHOOV, AS       |Äriühing    |jah                           |HULGI- JA JAEKAUBANDUS; MOOTORSÕIDUKITE JA MOOTORRATASTE REMONT|Ida-Viru ( Lüganuse vald )|90795.72      |57953.73                |842647.06 |45       |2020_i_quarter|\n",
            "|10000219 |YEAR, AS                    |Äriühing    |jah                           |TÖÖTLEV TÖÖSTUS                                                |Harju ( Anija vald )      |18012.18      |16675.63                |78022.66  |15       |2020_i_quarter|\n",
            "|10000248 |ITW CONSTRUCTION PRODUCTS OÜ|Äriühing    |jah                           |HULGI- JA JAEKAUBANDUS; MOOTORSÕIDUKITE JA MOOTORRATASTE REMONT|Harju ( Tallinn )         |131666.2      |33369.53                |1026334.94|7        |2020_i_quarter|\n",
            "|10000356 |ESTIKO, AS                  |Äriühing    |jah                           |KUTSE-, TEADUS- JA TEHNIKAALANE TEGEVUS                        |Tartu ( Tartu linn )      |218391.83     |52986.11                |2506039.8 |19       |2020_i_quarter|\n",
            "|10000372 |SAARIOINEN EESTI OÜ         |Äriühing    |jah                           |TÖÖTLEV TÖÖSTUS                                                |Rapla ( Rapla vald )      |546483.0      |326338.53               |4530557.0 |164      |2020_i_quarter|\n",
            "|10000395 |KUUMTRÜKK, OÜ               |Äriühing    |jah                           |TÖÖTLEV TÖÖSTUS                                                |Harju ( Tallinn )         |15395.74      |10359.8                 |34739.42  |6        |2020_i_quarter|\n",
            "+---------+----------------------------+------------+------------------------------+---------------------------------------------------------------+--------------------------+--------------+------------------------+----------+---------+--------------+\n",
            "\n"
          ]
        }
      ]
    },
    {
      "cell_type": "code",
      "source": [
        "# q = \\\n",
        "# \"\"\"\n",
        "#   WITH emtak_code as (\n",
        "#     SELECT\n",
        "#       ariregistri_kood,\n",
        "#       nimi,\n",
        "#       element_at(yldandmed.teatatud_tegevusalad.emtak_kood, 1) AS emtak_kood,\n",
        "#       element_at(yldandmed.teatatud_tegevusalad.emtak_tekstina, 1) AS emtak_tekstina\n",
        "#     FROM generic_data\n",
        "#   )\n",
        "#   SELECT * FROM emtak_code\n",
        "# \"\"\"\n",
        "# res = spark.sql(q).cache()\n",
        "# res.show(20, truncate=False)"
      ],
      "metadata": {
        "id": "3tDSnZM7J9DQ"
      },
      "execution_count": 61,
      "outputs": []
    },
    {
      "cell_type": "code",
      "source": [
        "spark.stop()"
      ],
      "metadata": {
        "id": "ZEXSQQl7CalQ"
      },
      "execution_count": null,
      "outputs": []
    }
  ],
  "metadata": {
    "colab": {
      "provenance": [],
      "authorship_tag": "ABX9TyO75QkPGDxMDx9cJqO4Lr8I",
      "include_colab_link": true
    },
    "kernelspec": {
      "display_name": "Python 3",
      "name": "python3"
    },
    "language_info": {
      "name": "python"
    }
  },
  "nbformat": 4,
  "nbformat_minor": 0
}